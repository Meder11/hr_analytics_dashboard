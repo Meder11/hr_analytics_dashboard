{
 "cells": [
  {
   "cell_type": "code",
   "execution_count": 42,
   "id": "4391d0bb-649e-44d5-9361-fec1f44119b6",
   "metadata": {},
   "outputs": [],
   "source": [
    "import pandas as pd\n",
    "import matplotlib.pyplot as plt\n",
    "import seaborn as sns"
   ]
  },
  {
   "cell_type": "code",
   "execution_count": 43,
   "id": "2b4bd1db-c204-4edd-a13e-a95813ac166b",
   "metadata": {},
   "outputs": [
    {
     "data": {
      "text/html": [
       "<div>\n",
       "<style scoped>\n",
       "    .dataframe tbody tr th:only-of-type {\n",
       "        vertical-align: middle;\n",
       "    }\n",
       "\n",
       "    .dataframe tbody tr th {\n",
       "        vertical-align: top;\n",
       "    }\n",
       "\n",
       "    .dataframe thead th {\n",
       "        text-align: right;\n",
       "    }\n",
       "</style>\n",
       "<table border=\"1\" class=\"dataframe\">\n",
       "  <thead>\n",
       "    <tr style=\"text-align: right;\">\n",
       "      <th></th>\n",
       "      <th>Employee ID</th>\n",
       "      <th>StartDate</th>\n",
       "      <th>Title</th>\n",
       "      <th>BusinessUnit</th>\n",
       "      <th>EmployeeStatus</th>\n",
       "      <th>EmployeeType</th>\n",
       "      <th>PayZone</th>\n",
       "      <th>EmployeeClassificationType</th>\n",
       "      <th>DepartmentType</th>\n",
       "      <th>Division</th>\n",
       "      <th>...</th>\n",
       "      <th>Engagement Score</th>\n",
       "      <th>Satisfaction Score</th>\n",
       "      <th>Work-Life Balance Score</th>\n",
       "      <th>Training Date</th>\n",
       "      <th>Training Program Name</th>\n",
       "      <th>Training Type</th>\n",
       "      <th>Training Outcome</th>\n",
       "      <th>Training Duration(Days)</th>\n",
       "      <th>Training Cost</th>\n",
       "      <th>Age</th>\n",
       "    </tr>\n",
       "  </thead>\n",
       "  <tbody>\n",
       "    <tr>\n",
       "      <th>0</th>\n",
       "      <td>3427</td>\n",
       "      <td>20-Sep-19</td>\n",
       "      <td>Production Technician I</td>\n",
       "      <td>CCDR</td>\n",
       "      <td>Active</td>\n",
       "      <td>Contract</td>\n",
       "      <td>Zone C</td>\n",
       "      <td>Temporary</td>\n",
       "      <td>Production</td>\n",
       "      <td>Finance &amp; Accounting</td>\n",
       "      <td>...</td>\n",
       "      <td>1</td>\n",
       "      <td>2</td>\n",
       "      <td>3</td>\n",
       "      <td>15-Jul-23</td>\n",
       "      <td>Leadership Development</td>\n",
       "      <td>Internal</td>\n",
       "      <td>Failed</td>\n",
       "      <td>2</td>\n",
       "      <td>606.11</td>\n",
       "      <td>50</td>\n",
       "    </tr>\n",
       "    <tr>\n",
       "      <th>1</th>\n",
       "      <td>3428</td>\n",
       "      <td>11-Feb-23</td>\n",
       "      <td>Production Technician I</td>\n",
       "      <td>EW</td>\n",
       "      <td>Active</td>\n",
       "      <td>Contract</td>\n",
       "      <td>Zone A</td>\n",
       "      <td>Part-Time</td>\n",
       "      <td>Production</td>\n",
       "      <td>Aerial</td>\n",
       "      <td>...</td>\n",
       "      <td>2</td>\n",
       "      <td>1</td>\n",
       "      <td>5</td>\n",
       "      <td>12-Sep-22</td>\n",
       "      <td>Customer Service</td>\n",
       "      <td>External</td>\n",
       "      <td>Incomplete</td>\n",
       "      <td>4</td>\n",
       "      <td>673.02</td>\n",
       "      <td>58</td>\n",
       "    </tr>\n",
       "    <tr>\n",
       "      <th>2</th>\n",
       "      <td>3429</td>\n",
       "      <td>10-Dec-18</td>\n",
       "      <td>Area Sales Manager</td>\n",
       "      <td>PL</td>\n",
       "      <td>Active</td>\n",
       "      <td>Full-Time</td>\n",
       "      <td>Zone B</td>\n",
       "      <td>Part-Time</td>\n",
       "      <td>Sales</td>\n",
       "      <td>General - Sga</td>\n",
       "      <td>...</td>\n",
       "      <td>1</td>\n",
       "      <td>2</td>\n",
       "      <td>1</td>\n",
       "      <td>13-Aug-22</td>\n",
       "      <td>Leadership Development</td>\n",
       "      <td>External</td>\n",
       "      <td>Failed</td>\n",
       "      <td>2</td>\n",
       "      <td>413.28</td>\n",
       "      <td>27</td>\n",
       "    </tr>\n",
       "    <tr>\n",
       "      <th>3</th>\n",
       "      <td>3430</td>\n",
       "      <td>21-Jun-21</td>\n",
       "      <td>Area Sales Manager</td>\n",
       "      <td>CCDR</td>\n",
       "      <td>Active</td>\n",
       "      <td>Contract</td>\n",
       "      <td>Zone A</td>\n",
       "      <td>Full-Time</td>\n",
       "      <td>Sales</td>\n",
       "      <td>Finance &amp; Accounting</td>\n",
       "      <td>...</td>\n",
       "      <td>5</td>\n",
       "      <td>5</td>\n",
       "      <td>4</td>\n",
       "      <td>15-Dec-22</td>\n",
       "      <td>Project Management</td>\n",
       "      <td>External</td>\n",
       "      <td>Completed</td>\n",
       "      <td>3</td>\n",
       "      <td>663.78</td>\n",
       "      <td>23</td>\n",
       "    </tr>\n",
       "    <tr>\n",
       "      <th>4</th>\n",
       "      <td>3431</td>\n",
       "      <td>29-Jun-19</td>\n",
       "      <td>Area Sales Manager</td>\n",
       "      <td>TNS</td>\n",
       "      <td>Active</td>\n",
       "      <td>Contract</td>\n",
       "      <td>Zone A</td>\n",
       "      <td>Temporary</td>\n",
       "      <td>Sales</td>\n",
       "      <td>General - Con</td>\n",
       "      <td>...</td>\n",
       "      <td>2</td>\n",
       "      <td>5</td>\n",
       "      <td>3</td>\n",
       "      <td>13-Jul-23</td>\n",
       "      <td>Technical Skills</td>\n",
       "      <td>External</td>\n",
       "      <td>Failed</td>\n",
       "      <td>5</td>\n",
       "      <td>399.03</td>\n",
       "      <td>50</td>\n",
       "    </tr>\n",
       "  </tbody>\n",
       "</table>\n",
       "<p>5 rows × 28 columns</p>\n",
       "</div>"
      ],
      "text/plain": [
       "   Employee ID  StartDate                    Title BusinessUnit  \\\n",
       "0         3427  20-Sep-19  Production Technician I         CCDR   \n",
       "1         3428  11-Feb-23  Production Technician I           EW   \n",
       "2         3429  10-Dec-18       Area Sales Manager           PL   \n",
       "3         3430  21-Jun-21       Area Sales Manager         CCDR   \n",
       "4         3431  29-Jun-19       Area Sales Manager          TNS   \n",
       "\n",
       "  EmployeeStatus EmployeeType PayZone EmployeeClassificationType  \\\n",
       "0         Active     Contract  Zone C                  Temporary   \n",
       "1         Active     Contract  Zone A                  Part-Time   \n",
       "2         Active    Full-Time  Zone B                  Part-Time   \n",
       "3         Active     Contract  Zone A                  Full-Time   \n",
       "4         Active     Contract  Zone A                  Temporary   \n",
       "\n",
       "      DepartmentType              Division  ... Engagement Score  \\\n",
       "0  Production         Finance & Accounting  ...                1   \n",
       "1  Production                       Aerial  ...                2   \n",
       "2              Sales         General - Sga  ...                1   \n",
       "3              Sales  Finance & Accounting  ...                5   \n",
       "4              Sales         General - Con  ...                2   \n",
       "\n",
       "  Satisfaction Score Work-Life Balance Score Training Date  \\\n",
       "0                  2                       3     15-Jul-23   \n",
       "1                  1                       5     12-Sep-22   \n",
       "2                  2                       1     13-Aug-22   \n",
       "3                  5                       4     15-Dec-22   \n",
       "4                  5                       3     13-Jul-23   \n",
       "\n",
       "    Training Program Name Training Type  Training Outcome  \\\n",
       "0  Leadership Development      Internal            Failed   \n",
       "1        Customer Service      External        Incomplete   \n",
       "2  Leadership Development      External            Failed   \n",
       "3      Project Management      External         Completed   \n",
       "4        Technical Skills      External            Failed   \n",
       "\n",
       "  Training Duration(Days)  Training Cost  Age  \n",
       "0                       2         606.11   50  \n",
       "1                       4         673.02   58  \n",
       "2                       2         413.28   27  \n",
       "3                       3         663.78   23  \n",
       "4                       5         399.03   50  \n",
       "\n",
       "[5 rows x 28 columns]"
      ]
     },
     "execution_count": 43,
     "metadata": {},
     "output_type": "execute_result"
    }
   ],
   "source": [
    "hr_df = pd.read_csv('hr_analytics.csv', encoding='ascii')\n",
    "\n",
    "hr_df.head()"
   ]
  },
  {
   "cell_type": "code",
   "execution_count": 4,
   "id": "59dc0a27-a625-4098-b50d-1f06252e414b",
   "metadata": {},
   "outputs": [
    {
     "name": "stdout",
     "output_type": "stream",
     "text": [
      "Dataset shape: (2845, 28)\n",
      "\n",
      "Data types:\n",
      "Employee ID                     int64\n",
      "StartDate                      object\n",
      "Title                          object\n",
      "BusinessUnit                   object\n",
      "EmployeeStatus                 object\n",
      "EmployeeType                   object\n",
      "PayZone                        object\n",
      "EmployeeClassificationType     object\n",
      "DepartmentType                 object\n",
      "Division                       object\n",
      "DOB                            object\n",
      "State                          object\n",
      "GenderCode                     object\n",
      "RaceDesc                       object\n",
      "MaritalDesc                    object\n",
      "Performance Score              object\n",
      "Current Employee Rating         int64\n",
      "Survey Date                    object\n",
      "Engagement Score                int64\n",
      "Satisfaction Score              int64\n",
      "Work-Life Balance Score         int64\n",
      "Training Date                  object\n",
      "Training Program Name          object\n",
      "Training Type                  object\n",
      "Training Outcome               object\n",
      "Training Duration(Days)         int64\n",
      "Training Cost                 float64\n",
      "Age                             int64\n",
      "dtype: object\n"
     ]
    }
   ],
   "source": [
    "# Check the shape of the dataframe and data types\n",
    "print(\"Dataset shape:\", hr_df.shape)\n",
    "print(\"\\nData types:\")\n",
    "print(hr_df.dtypes)"
   ]
  },
  {
   "cell_type": "code",
   "execution_count": 5,
   "id": "aa2e80fc-559d-43d0-b442-ece6cb18f998",
   "metadata": {},
   "outputs": [
    {
     "name": "stdout",
     "output_type": "stream",
     "text": [
      "\n",
      " Missing values:\n",
      "Employee ID                   0\n",
      "StartDate                     0\n",
      "Title                         0\n",
      "BusinessUnit                  0\n",
      "EmployeeStatus                0\n",
      "EmployeeType                  0\n",
      "PayZone                       0\n",
      "EmployeeClassificationType    0\n",
      "DepartmentType                0\n",
      "Division                      0\n",
      "DOB                           0\n",
      "State                         0\n",
      "GenderCode                    0\n",
      "RaceDesc                      0\n",
      "MaritalDesc                   0\n",
      "Performance Score             0\n",
      "Current Employee Rating       0\n",
      "Survey Date                   0\n",
      "Engagement Score              0\n",
      "Satisfaction Score            0\n",
      "Work-Life Balance Score       0\n",
      "Training Date                 0\n",
      "Training Program Name         0\n",
      "Training Type                 0\n",
      "Training Outcome              0\n",
      "Training Duration(Days)       0\n",
      "Training Cost                 0\n",
      "Age                           0\n",
      "dtype: int64\n"
     ]
    }
   ],
   "source": [
    "# Check for missing values\n",
    "print(\"\\n Missing values:\")\n",
    "print(hr_df.isnull().sum())"
   ]
  },
  {
   "cell_type": "code",
   "execution_count": 7,
   "id": "f0bd280d-aadc-4d70-9db8-e70f35d55193",
   "metadata": {},
   "outputs": [
    {
     "name": "stdout",
     "output_type": "stream",
     "text": [
      "\n",
      "Basic statistics for numerical columns:\n"
     ]
    },
    {
     "data": {
      "text/html": [
       "<div>\n",
       "<style scoped>\n",
       "    .dataframe tbody tr th:only-of-type {\n",
       "        vertical-align: middle;\n",
       "    }\n",
       "\n",
       "    .dataframe tbody tr th {\n",
       "        vertical-align: top;\n",
       "    }\n",
       "\n",
       "    .dataframe thead th {\n",
       "        text-align: right;\n",
       "    }\n",
       "</style>\n",
       "<table border=\"1\" class=\"dataframe\">\n",
       "  <thead>\n",
       "    <tr style=\"text-align: right;\">\n",
       "      <th></th>\n",
       "      <th>Employee ID</th>\n",
       "      <th>Current Employee Rating</th>\n",
       "      <th>Engagement Score</th>\n",
       "      <th>Satisfaction Score</th>\n",
       "      <th>Work-Life Balance Score</th>\n",
       "      <th>Training Duration(Days)</th>\n",
       "      <th>Training Cost</th>\n",
       "      <th>Age</th>\n",
       "    </tr>\n",
       "  </thead>\n",
       "  <tbody>\n",
       "    <tr>\n",
       "      <th>count</th>\n",
       "      <td>2845.000000</td>\n",
       "      <td>2845.000000</td>\n",
       "      <td>2845.000000</td>\n",
       "      <td>2845.000000</td>\n",
       "      <td>2845.000000</td>\n",
       "      <td>2845.000000</td>\n",
       "      <td>2845.000000</td>\n",
       "      <td>2845.000000</td>\n",
       "    </tr>\n",
       "    <tr>\n",
       "      <th>mean</th>\n",
       "      <td>2470.591916</td>\n",
       "      <td>2.974692</td>\n",
       "      <td>2.941652</td>\n",
       "      <td>3.028471</td>\n",
       "      <td>2.989104</td>\n",
       "      <td>2.973989</td>\n",
       "      <td>559.278956</td>\n",
       "      <td>49.448506</td>\n",
       "    </tr>\n",
       "    <tr>\n",
       "      <th>std</th>\n",
       "      <td>859.450107</td>\n",
       "      <td>1.012610</td>\n",
       "      <td>1.435230</td>\n",
       "      <td>1.410067</td>\n",
       "      <td>1.408816</td>\n",
       "      <td>1.419682</td>\n",
       "      <td>263.333611</td>\n",
       "      <td>17.689179</td>\n",
       "    </tr>\n",
       "    <tr>\n",
       "      <th>min</th>\n",
       "      <td>1001.000000</td>\n",
       "      <td>1.000000</td>\n",
       "      <td>1.000000</td>\n",
       "      <td>1.000000</td>\n",
       "      <td>1.000000</td>\n",
       "      <td>1.000000</td>\n",
       "      <td>100.040000</td>\n",
       "      <td>17.000000</td>\n",
       "    </tr>\n",
       "    <tr>\n",
       "      <th>25%</th>\n",
       "      <td>1736.000000</td>\n",
       "      <td>2.000000</td>\n",
       "      <td>2.000000</td>\n",
       "      <td>2.000000</td>\n",
       "      <td>2.000000</td>\n",
       "      <td>2.000000</td>\n",
       "      <td>328.060000</td>\n",
       "      <td>34.000000</td>\n",
       "    </tr>\n",
       "    <tr>\n",
       "      <th>50%</th>\n",
       "      <td>2456.000000</td>\n",
       "      <td>3.000000</td>\n",
       "      <td>3.000000</td>\n",
       "      <td>3.000000</td>\n",
       "      <td>3.000000</td>\n",
       "      <td>3.000000</td>\n",
       "      <td>571.810000</td>\n",
       "      <td>49.000000</td>\n",
       "    </tr>\n",
       "    <tr>\n",
       "      <th>75%</th>\n",
       "      <td>3197.000000</td>\n",
       "      <td>3.000000</td>\n",
       "      <td>4.000000</td>\n",
       "      <td>4.000000</td>\n",
       "      <td>4.000000</td>\n",
       "      <td>4.000000</td>\n",
       "      <td>788.330000</td>\n",
       "      <td>65.000000</td>\n",
       "    </tr>\n",
       "    <tr>\n",
       "      <th>max</th>\n",
       "      <td>4000.000000</td>\n",
       "      <td>5.000000</td>\n",
       "      <td>5.000000</td>\n",
       "      <td>5.000000</td>\n",
       "      <td>5.000000</td>\n",
       "      <td>5.000000</td>\n",
       "      <td>999.970000</td>\n",
       "      <td>82.000000</td>\n",
       "    </tr>\n",
       "  </tbody>\n",
       "</table>\n",
       "</div>"
      ],
      "text/plain": [
       "       Employee ID  Current Employee Rating  Engagement Score  \\\n",
       "count  2845.000000              2845.000000       2845.000000   \n",
       "mean   2470.591916                 2.974692          2.941652   \n",
       "std     859.450107                 1.012610          1.435230   \n",
       "min    1001.000000                 1.000000          1.000000   \n",
       "25%    1736.000000                 2.000000          2.000000   \n",
       "50%    2456.000000                 3.000000          3.000000   \n",
       "75%    3197.000000                 3.000000          4.000000   \n",
       "max    4000.000000                 5.000000          5.000000   \n",
       "\n",
       "       Satisfaction Score  Work-Life Balance Score  Training Duration(Days)  \\\n",
       "count         2845.000000              2845.000000              2845.000000   \n",
       "mean             3.028471                 2.989104                 2.973989   \n",
       "std              1.410067                 1.408816                 1.419682   \n",
       "min              1.000000                 1.000000                 1.000000   \n",
       "25%              2.000000                 2.000000                 2.000000   \n",
       "50%              3.000000                 3.000000                 3.000000   \n",
       "75%              4.000000                 4.000000                 4.000000   \n",
       "max              5.000000                 5.000000                 5.000000   \n",
       "\n",
       "       Training Cost          Age  \n",
       "count    2845.000000  2845.000000  \n",
       "mean      559.278956    49.448506  \n",
       "std       263.333611    17.689179  \n",
       "min       100.040000    17.000000  \n",
       "25%       328.060000    34.000000  \n",
       "50%       571.810000    49.000000  \n",
       "75%       788.330000    65.000000  \n",
       "max       999.970000    82.000000  "
      ]
     },
     "execution_count": 7,
     "metadata": {},
     "output_type": "execute_result"
    }
   ],
   "source": [
    "# Get basic statistics for numerical columns\n",
    "print(\"\\nBasic statistics for numerical columns:\")\n",
    "hr_df.describe()"
   ]
  },
  {
   "cell_type": "code",
   "execution_count": 9,
   "id": "2e50916e-1ddd-4087-be11-15d56947c054",
   "metadata": {},
   "outputs": [
    {
     "name": "stdout",
     "output_type": "stream",
     "text": [
      "EmployeeStatus unique values:\n",
      "['Active' 'Terminated']\n",
      "\n",
      "All columns in the dataset:\n",
      "['Employee ID', 'StartDate', 'Title', 'BusinessUnit', 'EmployeeStatus', 'EmployeeType', 'PayZone', 'EmployeeClassificationType', 'DepartmentType', 'Division', 'DOB', 'State', 'GenderCode', 'RaceDesc', 'MaritalDesc', 'Performance Score', 'Current Employee Rating', 'Survey Date', 'Engagement Score', 'Satisfaction Score', 'Work-Life Balance Score', 'Training Date', 'Training Program Name', 'Training Type', 'Training Outcome', 'Training Duration(Days)', 'Training Cost', 'Age']\n"
     ]
    }
   ],
   "source": [
    "# Check to see if an employee is still with the company\n",
    "print(\"EmployeeStatus unique values:\")\n",
    "print(hr_df[\"EmployeeStatus\"].unique())\n",
    "\n",
    "# Check to see if there are any columns related to retention or turnover\n",
    "print(\"\\nAll columns in the dataset:\")\n",
    "print(hr_df.columns.tolist())"
   ]
  },
  {
   "cell_type": "code",
   "execution_count": 10,
   "id": "be8d10c2-b97a-4efb-bb30-7040addac919",
   "metadata": {},
   "outputs": [
    {
     "name": "stdout",
     "output_type": "stream",
     "text": [
      "Employee Retention Rate:\n",
      "EmployeeStatus\n",
      "Active        86.397188\n",
      "Terminated    13.602812\n",
      "Name: proportion, dtype: float64\n"
     ]
    }
   ],
   "source": [
    "# Calculate retention rate\n",
    "retention_rate = hr_df[\"EmployeeStatus\"].value_counts(normalize=True) * 100\n",
    "print(\"Employee Retention Rate:\")\n",
    "print(retention_rate)"
   ]
  },
  {
   "cell_type": "code",
   "execution_count": 11,
   "id": "4a9cd50e-f950-46f7-b076-3cfa8bcac386",
   "metadata": {},
   "outputs": [],
   "source": [
    "from datetime import datetime"
   ]
  },
  {
   "cell_type": "code",
   "execution_count": 13,
   "id": "7db0e65f-67b0-4a65-a60d-8c2d317bf9f6",
   "metadata": {},
   "outputs": [],
   "source": [
    "hr_df[\"StartDate\"] = pd.to_datetime(hr_df[\"StartDate\"], format=\"%d-%b-%y\", errors=\"coerce\")\n",
    "hr_df[\"DOB\"] = pd.to_datetime(hr_df[\"DOB\"], format=\"%d-%m-%y\", errors=\"coerce\")\n",
    "hr_df['Survey Date'] = pd.to_datetime(hr_df['Survey Date'], format='%d-%m-%Y', errors='coerce')\n",
    "hr_df['Training Date'] = pd.to_datetime(hr_df['Training Date'], format='%d-%b-%y', errors='coerce')"
   ]
  },
  {
   "cell_type": "code",
   "execution_count": 14,
   "id": "6b771eb6-604b-48fe-ad8d-edc22252a6ad",
   "metadata": {},
   "outputs": [
    {
     "name": "stdout",
     "output_type": "stream",
     "text": [
      "\n",
      "Training Outcome Distribution:\n",
      "Training Outcome\n",
      "Completed     25.905097\n",
      "Incomplete    25.694200\n",
      "Passed        24.920914\n",
      "Failed        23.479789\n",
      "Name: proportion, dtype: float64\n"
     ]
    }
   ],
   "source": [
    "# Check training columns outcomes distribution\n",
    "print(\"\\nTraining Outcome Distribution:\")\n",
    "print(hr_df[\"Training Outcome\"].value_counts(normalize=True) * 100)"
   ]
  },
  {
   "cell_type": "code",
   "execution_count": 17,
   "id": "678fa04c-48d4-4cba-8b36-807cbb45d52f",
   "metadata": {},
   "outputs": [
    {
     "name": "stdout",
     "output_type": "stream",
     "text": [
      "\n",
      "Engagement Score Distribution:\n",
      "Engagement Score\n",
      "1    22.073814\n",
      "2    20.246046\n",
      "5    19.578207\n",
      "4    19.402460\n",
      "3    18.699473\n",
      "Name: proportion, dtype: float64\n",
      "\n",
      "Satisfaction Score Distribution:\n",
      "Satisfaction Score\n",
      "4    21.511424\n",
      "3    20.000000\n",
      "5    19.859402\n",
      "1    19.753954\n",
      "2    18.875220\n",
      "Name: proportion, dtype: float64\n",
      "\n",
      " Work-Life Balance Score Distribution:\n",
      "Work-Life Balance Score\n",
      "3    21.054482\n",
      "1    20.210896\n",
      "5    19.613357\n",
      "4    19.613357\n",
      "2    19.507909\n",
      "Name: proportion, dtype: float64\n"
     ]
    }
   ],
   "source": [
    "# Check engagment satisfaction, and work - life balance scores\n",
    "print(\"\\nEngagement Score Distribution:\")\n",
    "print(hr_df[\"Engagement Score\"].value_counts(normalize=True) * 100)\n",
    "\n",
    "print(\"\\nSatisfaction Score Distribution:\")\n",
    "print(hr_df[\"Satisfaction Score\"].value_counts(normalize=True) * 100)\n",
    "\n",
    "print(\"\\n Work-Life Balance Score Distribution:\")\n",
    "print(hr_df['Work-Life Balance Score'].value_counts(normalize=True) * 100"
   ]
  },
  {
   "cell_type": "code",
   "execution_count": 20,
   "id": "c94d6e3c-64c5-4fa3-ba89-edfc75423811",
   "metadata": {},
   "outputs": [
    {
     "name": "stdout",
     "output_type": "stream",
     "text": [
      "Training Outcome vs Employee Status (%):\n",
      "EmployeeStatus       Active  Terminated\n",
      "Training Outcome                       \n",
      "Completed         88.195387   11.804613\n",
      "Failed            87.125749   12.874251\n",
      "Incomplete        86.456908   13.543092\n",
      "Passed            83.779972   16.220028\n"
     ]
    }
   ],
   "source": [
    "# Analyze the relationship between training outcomes and employee status\n",
    "training_vs_status = pd.crosstab(hr_df[\"Training Outcome\"], hr_df[\"EmployeeStatus\"], normalize=\"index\") * 100\n",
    "print(\"Training Outcome vs Employee Status (%):\")\n",
    "print(training_vs_status)"
   ]
  },
  {
   "cell_type": "code",
   "execution_count": 28,
   "id": "6a645b28-3ab5-4a3e-b0c2-03286acf91e9",
   "metadata": {},
   "outputs": [
    {
     "name": "stdout",
     "output_type": "stream",
     "text": [
      "\n",
      " Average Score by Empkloyee Status:\n",
      "EmployeeStatus\n",
      "Active        2.948332\n",
      "Terminated    2.899225\n",
      "Name: Engagement Score, dtype: float64\n",
      "\n",
      "Satisfaction Score:\n",
      "EmployeeStatus\n",
      "Active        7409\n",
      "Terminated    1207\n",
      "Name: Satisfaction Score, dtype: int64\n",
      "\n",
      " Work Life Balance Score\n",
      "EmployeeStatus\n",
      "Active        3.003662\n",
      "Terminated    2.896641\n",
      "Name: Work-Life Balance Score, dtype: float64\n",
      "\n",
      " Training Program Effectiveness (%):\n",
      "Training Outcome        Completed     Failed  Incomplete     Passed\n",
      "Training Program Name                                              \n",
      "Communication Skills    29.383886  21.484992   24.170616  24.960506\n",
      "Customer Service        29.259259  23.703704   22.777778  24.259259\n",
      "Leadership Development  25.183824  22.058824   24.816176  27.941176\n",
      "Project Management      23.418803  25.811966   26.495726  24.273504\n",
      "Technical Skills        21.915285  24.493554   30.386740  23.204420\n"
     ]
    }
   ],
   "source": [
    "# Analyze average engagment, satisfaction, and work-life balance scores by employee status\n",
    "engagement_by_status = hr_df.groupby(\"EmployeeStatus\")[\"Engagement Score\"].mean()\n",
    "satisfaction_by_status = hr_df.groupby(\"EmployeeStatus\")[\"Satisfaction Score\"].sum()\n",
    "worklife_by_status = hr_df.groupby(\"EmployeeStatus\")[\"Work-Life Balance Score\"].mean()\n",
    "\n",
    "print(\"\\n Average Score by Empkloyee Status:\")\n",
    "print(engagement_by_status)\n",
    "\n",
    "print(\"\\nSatisfaction Score:\")\n",
    "print(satisfaction_by_status)\n",
    "\n",
    "print(\"\\n Work Life Balance Score\")\n",
    "print(worklife_by_status)\n",
    "\n",
    "# Analyze training program effectiveness\n",
    "training_program_outcome = pd.crosstab(hr_df[\"Training Program Name\"], hr_df[\"Training Outcome\"], normalize=\"index\") * 100\n",
    "print(\"\\n Training Program Effectiveness (%):\")\n",
    "print(training_program_outcome)"
   ]
  },
  {
   "cell_type": "code",
   "execution_count": 29,
   "id": "7c106b9b-0c51-46bd-95ec-728cda705a37",
   "metadata": {},
   "outputs": [
    {
     "name": "stdout",
     "output_type": "stream",
     "text": [
      "Training Outcome        Completed     Failed  Incomplete     Passed\n",
      "Training Program Name                                              \n",
      "Communication Skills    29.383886  21.484992   24.170616  24.960506\n",
      "Customer Service        29.259259  23.703704   22.777778  24.259259\n",
      "Leadership Development  25.183824  22.058824   24.816176  27.941176\n",
      "Project Management      23.418803  25.811966   26.495726  24.273504\n",
      "Technical Skills        21.915285  24.493554   30.386740  23.204420\n"
     ]
    }
   ],
   "source": [
    "# Continue displaying the training program effectiveness table\n",
    "print(training_program_outcome)"
   ]
  },
  {
   "cell_type": "code",
   "execution_count": 30,
   "id": "fb70c90e-eb67-4a69-b0c4-be3e2c45b75c",
   "metadata": {},
   "outputs": [
    {
     "name": "stdout",
     "output_type": "stream",
     "text": [
      "\n",
      " Age Group vs Employee Status (%):\n",
      "EmployeeStatus    Active  Terminated\n",
      "Age Group                           \n",
      "20-30           0.877016    0.122984\n",
      "31-40           0.843267    0.156733\n",
      "41-50           0.860465    0.139535\n",
      "51-60           0.858108    0.141892\n",
      "61-70           0.890244    0.109756\n"
     ]
    }
   ],
   "source": [
    "# Analyze demographic factors\n",
    "# Age groups and retention\n",
    "hr_df[\"Age Group\"] = pd.cut(hr_df[\"Age\"], bins=[20, 30, 40, 50, 60, 70], labels=['20-30', '31-40', '41-50', '51-60', '61-70'])\n",
    "age_vs_status = pd.crosstab(hr_df[\"Age Group\"], hr_df[\"EmployeeStatus\"], normalize=\"index\")\n",
    "print(\"\\n Age Group vs Employee Status (%):\")\n",
    "print(age_vs_status)"
   ]
  },
  {
   "cell_type": "code",
   "execution_count": 31,
   "id": "d6f40152-1b9b-4236-9658-ccc3795ce423",
   "metadata": {},
   "outputs": [
    {
     "name": "stdout",
     "output_type": "stream",
     "text": [
      "\n",
      " Business Unit vs Employee Status (%):\n",
      "EmployeeStatus     Active  Terminated\n",
      "BusinessUnit                         \n",
      "BPC             84.375000   15.625000\n",
      "CCDR            87.676056   12.323944\n",
      "EW              86.879433   13.120567\n",
      "MSC             84.751773   15.248227\n",
      "NEL             84.536082   15.463918\n",
      "PL              86.925795   13.074205\n",
      "PYZ             87.719298   12.280702\n",
      "SVG             87.544484   12.455516\n",
      "TNS             85.512367   14.487633\n",
      "WBL             88.111888   11.888112\n"
     ]
    }
   ],
   "source": [
    "# Business Unit and retention\n",
    "business_vs_status = pd.crosstab(hr_df[\"BusinessUnit\"], hr_df[\"EmployeeStatus\"], normalize=\"index\") * 100\n",
    "print(\"\\n Business Unit vs Employee Status (%):\")\n",
    "print(business_vs_status)"
   ]
  },
  {
   "cell_type": "code",
   "execution_count": 32,
   "id": "1e67d760-1c06-4ae6-9377-5f96c445449d",
   "metadata": {},
   "outputs": [
    {
     "name": "stdout",
     "output_type": "stream",
     "text": [
      "\n",
      "Department Type vs Employee Status (%):\n",
      "EmployeeStatus            Active  Terminated\n",
      "DepartmentType                              \n",
      "Admin Offices          98.734177    1.265823\n",
      "Executive Office      100.000000    0.000000\n",
      "IT/IS                  91.687042    8.312958\n",
      "Production             83.141361   16.858639\n",
      "Sales                  96.784566    3.215434\n",
      "Software Engineering   82.142857   17.857143\n"
     ]
    }
   ],
   "source": [
    "# Department Type and retentio\n",
    "department_vs_status = pd.crosstab(hr_df[\"DepartmentType\"], hr_df[\"EmployeeStatus\"], normalize=\"index\") * 100\n",
    "print(\"\\nDepartment Type vs Employee Status (%):\")\n",
    "print(department_vs_status)"
   ]
  },
  {
   "cell_type": "code",
   "execution_count": 37,
   "id": "5c6dd50a-4186-47ea-868c-7a6fdac52924",
   "metadata": {},
   "outputs": [
    {
     "name": "stdout",
     "output_type": "stream",
     "text": [
      "Average Scores by Training Outcome\n",
      "\n",
      "Engament Scorre:\n",
      "Training Outcome\n",
      "Completed     2.952510\n",
      "Failed        2.962575\n",
      "Incomplete    2.919289\n",
      "Passed        2.933709\n",
      "Name: Engagement Score, dtype: float64\n",
      "Satisfaction Score:\n",
      "Training Outcome\n",
      "Completed     3.093623\n",
      "Failed        2.992515\n",
      "Incomplete    3.008208\n",
      "Passed        3.015515\n",
      "Name: Satisfaction Score, dtype: float64\n",
      "Work-Life Balance Score:\n"
     ]
    }
   ],
   "source": [
    "# Analyze the relationship betwen training outcomes and engagement/satisfaction scores\n",
    "training_engagement = hr_df.groupby(\"Training Outcome\")[\"Engagement Score\"].mean()\n",
    "training_satisfaction = hr_df.groupby(\"Training Outcome\")[\"Satisfaction Score\"].mean()\n",
    "training_worklife = hr_df.groupby(\"Training Outcome\")[\"Work-Life Balance Score\"].mean()\n",
    "\n",
    "print(\"Average Scores by Training Outcome\")\n",
    "print(\"\\nEngament Scorre:\")\n",
    "print(training_engagement)\n",
    "print(\"\\\n",
    "Satisfaction Score:\")\n",
    "print(training_satisfaction)\n",
    "print(\"\\\n",
    "Work-Life Balance Score:\")"
   ]
  },
  {
   "cell_type": "code",
   "execution_count": 39,
   "id": "5495e79d-d92b-4db8-927e-8d08beab2206",
   "metadata": {},
   "outputs": [
    {
     "name": "stdout",
     "output_type": "stream",
     "text": [
      "Training Type vs Outcome\n",
      "Training Outcome  Completed     Failed  Incomplete     Passed\n",
      "Training Type                                                \n",
      "External          24.157303  24.157303   26.685393  25.000000\n",
      "Internal          27.656580  22.800844   24.700915  24.841661\n"
     ]
    }
   ],
   "source": [
    "# Analyze the relationship between training type and outcomes\n",
    "training_type_outcome = pd.crosstab(hr_df[\"Training Type\"], hr_df[\"Training Outcome\"], normalize='index') * 100\n",
    "print(\"Training Type vs Outcome\")\n",
    "print(training_type_outcome)"
   ]
  },
  {
   "cell_type": "code",
   "execution_count": 40,
   "id": "fdd45446-896e-42c5-958b-2892fec09be9",
   "metadata": {},
   "outputs": [
    {
     "name": "stdout",
     "output_type": "stream",
     "text": [
      "Training Type vs Outcome (%):\n",
      "Training Outcome  Completed     Failed  Incomplete     Passed\n",
      "Training Type                                                \n",
      "External          24.157303  24.157303   26.685393  25.000000\n",
      "Internal          27.656580  22.800844   24.700915  24.841661\n"
     ]
    }
   ],
   "source": [
    "# Analyze the relationship between training type and outcomes\n",
    "training_type_outcome = pd.crosstab(hr_df['Training Type'], hr_df['Training Outcome'], normalize='index') * 100\n",
    "print(\"\\\n",
    "Training Type vs Outcome (%):\")\n",
    "print(training_type_outcome)"
   ]
  },
  {
   "cell_type": "code",
   "execution_count": 41,
   "id": "a2ba0585-e052-43c9-8010-8be1ec1bf3ca",
   "metadata": {},
   "outputs": [
    {
     "name": "stdout",
     "output_type": "stream",
     "text": [
      "Performance Score vs Employee Status (%):\n",
      "EmployeeStatus        Active  Terminated\n",
      "Performance Score                       \n",
      "Exceeds            88.439306   11.560694\n",
      "Fully Meets        86.272768   13.727232\n",
      "Needs Improvement  87.654321   12.345679\n",
      "PIP                79.069767   20.930233\n",
      "Employee Rating vs Employee Status (%):\n",
      "EmployeeStatus              Active  Terminated\n",
      "Current Employee Rating                       \n",
      "1                        91.269841    8.730159\n",
      "2                        89.855072   10.144928\n",
      "3                        84.217781   15.782219\n",
      "4                        86.848635   13.151365\n",
      "5                        86.718750   13.281250\n"
     ]
    }
   ],
   "source": [
    "# Analyze the relationship between employee performance and retention\n",
    "performance_vs_status = pd.crosstab(hr_df['Performance Score'], hr_df['EmployeeStatus'], normalize='index') * 100\n",
    "print(\"\\\n",
    "Performance Score vs Employee Status (%):\")\n",
    "print(performance_vs_status)\n",
    "\n",
    "# Analyze the relationship between employee rating and retention\n",
    "rating_vs_status = pd.crosstab(hr_df['Current Employee Rating'], hr_df['EmployeeStatus'], normalize='index') * 100\n",
    "print(\"\\\n",
    "Employee Rating vs Employee Status (%):\")\n",
    "print(rating_vs_status)"
   ]
  },
  {
   "cell_type": "code",
   "execution_count": 45,
   "id": "9468c0a4-5084-47dc-975e-0034ad0621c8",
   "metadata": {},
   "outputs": [
    {
     "data": {
      "text/plain": [
       "<Figure size 1000x600 with 0 Axes>"
      ]
     },
     "metadata": {},
     "output_type": "display_data"
    },
    {
     "data": {
      "image/png": "[encoded data removed]",
      "text/plain": [
       "<Figure size 640x480 with 1 Axes>"
      ]
     },
     "metadata": {},
     "output_type": "display_data"
    },
    {
     "data": {
      "text/plain": [
       "<Figure size 1200x600 with 0 Axes>"
      ]
     },
     "metadata": {},
     "output_type": "display_data"
    },
    {
     "data": {
      "image/png": "[encoded data removed]",
      "text/plain": [
       "<Figure size 640x480 with 1 Axes>"
      ]
     },
     "metadata": {},
     "output_type": "display_data"
    },
    {
     "data": {
      "text/plain": [
       "<Figure size 1200x600 with 0 Axes>"
      ]
     },
     "metadata": {},
     "output_type": "display_data"
    },
    {
     "data": {
      "image/png": "[encoded data removed]",
      "text/plain": [
       "<Figure size 640x480 with 1 Axes>"
      ]
     },
     "metadata": {},
     "output_type": "display_data"
    }
   ],
   "source": [
    "\n",
    "\n",
    "# Training Outcome vs Employee Status\n",
    "plt.figure(figsize=(10, 6))\n",
    "training_status_counts = pd.crosstab(hr_df['Training Outcome'], hr_df['EmployeeStatus'])\n",
    "training_status_counts.plot(kind='bar', stacked=True)\n",
    "plt.title('Training Outcome vs Employee Status')\n",
    "plt.xlabel('Training Outcome')\n",
    "plt.ylabel('Count')\n",
    "plt.xticks(rotation=45)\n",
    "plt.tight_layout()\n",
    "plt.show()\n",
    "\n",
    "# Average Engagement, Satisfaction, and Work-Life Balance by Employee Status\n",
    "plt.figure(figsize=(12, 6))\n",
    "scores_by_status = hr_df.groupby('EmployeeStatus')[['Engagement Score', 'Satisfaction Score', 'Work-Life Balance Score']].mean()\n",
    "scores_by_status.plot(kind='bar')\n",
    "plt.title('Average Scores by Employee Status')\n",
    "plt.xlabel('Employee Status')\n",
    "plt.ylabel('Average Score')\n",
    "plt.xticks(rotation=0)\n",
    "plt.tight_layout()\n",
    "plt.show()\n",
    "\n",
    "# Department Type vs Employee Status\n",
    "plt.figure(figsize=(12, 6))\n",
    "dept_status = pd.crosstab(hr_df['DepartmentType'], hr_df['EmployeeStatus'])\n",
    "dept_status.plot(kind='bar', stacked=True)\n",
    "plt.title('Department Type vs Employee Status')\n",
    "plt.xlabel('Department Type')\n",
    "plt.ylabel('Count')\n",
    "plt.xticks(rotation=45)\n",
    "plt.tight_layout()\n",
    "plt.show()"
   ]
  },
  {
   "cell_type": "code",
   "execution_count": null,
   "id": "86a96fa9-0924-43b3-b1b6-f8ffd766062f",
   "metadata": {},
   "outputs": [],
   "source": []
  }
 ],
 "metadata": {
  "kernelspec": {
   "display_name": "Python 3 (ipykernel)",
   "language": "python",
   "name": "python3"
  },
  "language_info": {
   "codemirror_mode": {
    "name": "ipython",
    "version": 3
   },
   "file_extension": ".py",
   "mimetype": "text/x-python",
   "name": "python",
   "nbconvert_exporter": "python",
   "pygments_lexer": "ipython3",
   "version": "3.11.2"
  }
 },
 "nbformat": 4,
 "nbformat_minor": 5
}
